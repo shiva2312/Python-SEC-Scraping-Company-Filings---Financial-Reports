{
 "cells": [
  {
   "cell_type": "code",
   "execution_count": 8,
   "metadata": {},
   "outputs": [
    {
     "name": "stdout",
     "output_type": "stream",
     "text": [
      "['<!DOCTYPE html PUBLIC \"-//W3C//DTD XHTML 1.0 Transitional//EN\" \"http://www.w3.org/TR/xhtml1/DTD/xhtml1-transitional.dtd\">', '<html xmlns=\"http://www.w3.org/1999/xhtml\">', '<head>', '<meta http-equiv=\"Content-Type\" content=\"text/html; charset=UTF-8\" />', '<title>SEC.gov | Request Rate Threshold Exceeded</title>', '<style>', 'html {height: 100%}', 'body {height: 100%; margin:0; padding:0;}', '#header {background-color:#003968; color:#fff; padding:15px 20px 10px 20px;font-family:Arial, Helvetica, sans-serif; font-size:20px; border-bottom:solid 5px #000;}', '#footer {background-color:#003968; color:#fff; padding:15px 20px;font-family:Arial, Helvetica, sans-serif; font-size:20px;}', '#content {max-width:650px;margin:60px auto; padding:0 20px 100px 20px; background-image:url(seal_bw.png);background-repeat:no-repeat;background-position:50% 100%;}', 'h1 {font-family:Georgia, Times, serif; font-size:20px;}', 'h2 {text-align:center; font-family:Georgia, Times, serif; font-size:20px; width:100%; border-bottom:solid #999 1px;padding-bottom:10px; margin-bottom:20px;}', 'h3 {font-family:Georgia, Times, serif; font-size:16px; margin:25px 0 0 0;}', 'p {font-family:Verdana, Geneva, sans-serif;font-size:14px;line-height:1.3;}', '.grey_box {background-color:#eee; padding:5px 40px 20px 40px;margin-top:75px;}', '.grey_box p {font-size:12px;line-height:1.5}', '.note {padding: 0 40px; font-style: italic;}', '</style>', '</head>', '', '<body>', '<div id=\"header\">U.S. Securities and Exchange Commission</div>', '<div id=\"content\">', '<h1>Your Request Originates from an Undeclared Automated Tool</h1>', '<p>To allow for equitable access to all users, SEC reserves the right to limit requests originating from undeclared automated tools. Your request has been identified as part of a network of automated tools outside of the acceptable policy and will be managed until action is taken to declare your traffic.</p>', '', '<p>Please declare your traffic by updating your user agent to include company specific information.</p>', '', '', '<p>For best practices on efficiently downloading information from SEC.gov, including the latest EDGAR filings, visit <a href=\"https://www.sec.gov/developer\" target=\"_blank\">sec.gov/developer</a>. You can also <a href=\"https://public.govdelivery.com/accounts/USSEC/subscriber/new?topic_id=USSEC_260\" target=\"_blank\">sign up for email updates</a> on the SEC open data program, including best practices that make it more efficient to download data, and SEC.gov enhancements that may impact scripted downloading processes. For more information, contact <a href=\"mailto:opendata@sec.gov\">opendata@sec.gov</a>.</p>', '', '<p>For more information, please see the SEC’s <a href=\"#internet\">Web Site Privacy and Security Policy</a>. Thank you for your interest in the U.S. Securities and Exchange Commission.', '<p>Reference ID: 0.83b61160.1623956230.46c66a3</p>', '<div class=\"grey_box\">', '<h2>More Information</h2>', '<h3><a name=\"internet\">Internet Security Policy</a></h3>', '', '<p>By using this site, you are agreeing to security monitoring and auditing. For security purposes, and to ensure that the public service remains available to users, this government computer system employs programs to monitor network traffic to identify unauthorized attempts to upload or change information or to otherwise cause damage, including attempts to deny service to users.</p>', '', '<p>Unauthorized attempts to upload information and/or change information on any portion of this site are strictly prohibited and are subject to prosecution under the Computer Fraud and Abuse Act of 1986 and the National Information Infrastructure Protection Act of 1996 (see Title 18 U.S.C. §§ 1001 and 1030).</p>', '', '<p>To ensure our website performs well for all users, the SEC monitors the frequency of requests for SEC.gov content to ensure automated searches do not impact the ability of others to access SEC.gov content. We reserve the right to block IP addresses that submit excessive requests.  Current guidelines limit users to a total of no more than 10 requests per second, regardless of the number of machines used to submit requests. </p>', '', '<p>If a user or application submits more than 10 requests per second, further requests from the IP address(es) may be limited for a brief period. Once the rate of requests has dropped below the threshold for 10 minutes, the user may resume accessing content on SEC.gov. This SEC practice is designed to limit excessive automated searches on SEC.gov and is not intended or expected to impact individuals browsing the SEC.gov website. </p>', '', '<p>Note that this policy may change as the SEC manages SEC.gov to ensure that the website performs efficiently and remains available to all users.</p>', '</div>', '<br>', '<p class=\"note\"><b>Note:</b> We do not offer technical support for developing or debugging scripted downloading processes.</P>', '</div>', '</body>', '</html>', '']\n",
      "edgar/data/1652044/0001652044-21-000020.txt\n",
      "edgar/data/1652044/000165204421000020\n",
      "https://www.sec.gov/Archives/edgar/data/1652044/000165204421000020/goog-20210331.htm\n"
     ]
    }
   ],
   "source": [
    "import bs4 as bs\n",
    "import requests\n",
    "import pandas as pd\n",
    "import re\n",
    "\n",
    "company = 'Alphabet Inc'\n",
    "\n",
    "filing = '10-Q'\n",
    "year = 2021\n",
    "quarter = 'QTR2'\n",
    "#get name of all filings \n",
    "download = requests.get(f'https://www.sec.gov/Archives/edgar/full-index/{year}/{quarter}/master.idx').content\n",
    "download = download.decode(\"utf-8\").split('\\n')\n",
    "print(download)\n",
    "#build the first part of the url\n",
    "for item in download:\n",
    "  #company name and report type\n",
    "  if (company in item) and (filing in item): \n",
    "    #print(item)\n",
    "    company = item\n",
    "    company = company.strip()\n",
    "    splitted_company = company.split('|')\n",
    "    url = splitted_company[-1]\n",
    "\n",
    "print(url) #edgar/data/1326801/0001326801-20-000076.txt\n",
    "\n",
    "url2 = url.split('-') \n",
    "url2 = url2[0] + url2[1] + url2[2]\n",
    "url2 = url2.split('.txt')[0]\n",
    "print(url2) #edgar/data/1326801/000132680120000076\n",
    "\n",
    "to_get_html_site = 'https://www.sec.gov/Archives/' + url\n",
    "data = requests.get(to_get_html_site).content\n",
    "data = data.decode(\"utf-8\") \n",
    "data = data.split('FILENAME>')\n",
    "#data[1]\n",
    "data = data[1].split('\\n')[0]\n",
    "\n",
    "url_to_use = 'https://www.sec.gov/Archives/'+ url2 + '/'+data\n",
    "print(url_to_use)"
   ]
  },
  {
   "cell_type": "code",
   "execution_count": null,
   "metadata": {},
   "outputs": [],
   "source": []
  }
 ],
 "metadata": {
  "kernelspec": {
   "display_name": "Python 3",
   "language": "python",
   "name": "python3"
  },
  "language_info": {
   "codemirror_mode": {
    "name": "ipython",
    "version": 3
   },
   "file_extension": ".py",
   "mimetype": "text/x-python",
   "name": "python",
   "nbconvert_exporter": "python",
   "pygments_lexer": "ipython3",
   "version": "3.8.5"
  }
 },
 "nbformat": 4,
 "nbformat_minor": 4
}
