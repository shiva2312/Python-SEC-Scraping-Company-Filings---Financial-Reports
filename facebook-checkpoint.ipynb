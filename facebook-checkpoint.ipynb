{
 "cells": [
  {
   "cell_type": "code",
   "execution_count": 73,
   "metadata": {},
   "outputs": [
    {
     "name": "stderr",
     "output_type": "stream",
     "text": [
      "IOPub data rate exceeded.\n",
      "The notebook server will temporarily stop sending output\n",
      "to the client in order to avoid crashing it.\n",
      "To change this limit, set the config variable\n",
      "`--NotebookApp.iopub_data_rate_limit`.\n",
      "\n",
      "Current values:\n",
      "NotebookApp.iopub_data_rate_limit=1000000.0 (bytes/sec)\n",
      "NotebookApp.rate_limit_window=3.0 (secs)\n",
      "\n"
     ]
    },
    {
     "name": "stdout",
     "output_type": "stream",
     "text": [
      "edgar/data/1326801/0001326801-21-000033.txt\n",
      "edgar/data/1326801/000132680121000033\n",
      "https://www.sec.gov/Archives/edgar/data/1326801/000132680121000033/fb-20210331.htm\n"
     ]
    }
   ],
   "source": [
    "import bs4 as bs\n",
    "import requests\n",
    "import pandas as pd\n",
    "import re\n",
    "\n",
    "company = 'Facebook Inc'\n",
    "\n",
    "filing = '10-Q'\n",
    "year = 2021\n",
    "quarter = 'QTR2'\n",
    "#get name of all filings \n",
    "download = requests.get(f'https://www.sec.gov/Archives/edgar/full-index/{year}/{quarter}/master.idx').content\n",
    "download = download.decode(\"utf-8\").split('\\n')\n",
    "print(download)\n",
    "#build the first part of the url\n",
    "for item in download:\n",
    "  #company name and report type\n",
    "  if (company in item) and (filing in item): \n",
    "    #print(item)\n",
    "    company = item\n",
    "    company = company.strip()\n",
    "    splitted_company = company.split('|')\n",
    "    url = splitted_company[-1]\n",
    "\n",
    "print(url) #edgar/data/1326801/0001326801-20-000076.txt\n",
    "\n",
    "url2 = url.split('-') \n",
    "url2 = url2[0] + url2[1] + url2[2]\n",
    "url2 = url2.split('.txt')[0]\n",
    "print(url2) #edgar/data/1326801/000132680120000076\n",
    "\n",
    "to_get_html_site = 'https://www.sec.gov/Archives/' + url\n",
    "data = requests.get(to_get_html_site).content\n",
    "data = data.decode(\"utf-8\") \n",
    "data = data.split('FILENAME>')\n",
    "#data[1]\n",
    "data = data[1].split('\\n')[0]\n",
    "\n",
    "url_to_use = 'https://www.sec.gov/Archives/'+ url2 + '/'+data\n",
    "print(url_to_use)"
   ]
  },
  {
   "cell_type": "code",
   "execution_count": 24,
   "metadata": {},
   "outputs": [],
   "source": [
    "\n",
    "                                        \n"
   ]
  },
  {
   "cell_type": "code",
   "execution_count": null,
   "metadata": {},
   "outputs": [],
   "source": []
  }
 ],
 "metadata": {
  "kernelspec": {
   "display_name": "Python 3",
   "language": "python",
   "name": "python3"
  },
  "language_info": {
   "codemirror_mode": {
    "name": "ipython",
    "version": 3
   },
   "file_extension": ".py",
   "mimetype": "text/x-python",
   "name": "python",
   "nbconvert_exporter": "python",
   "pygments_lexer": "ipython3",
   "version": "3.8.5"
  }
 },
 "nbformat": 4,
 "nbformat_minor": 4
}
